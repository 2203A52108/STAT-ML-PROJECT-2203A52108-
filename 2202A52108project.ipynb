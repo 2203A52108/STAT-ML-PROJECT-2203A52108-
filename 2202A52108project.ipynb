{
  "nbformat": 4,
  "nbformat_minor": 0,
  "metadata": {
    "colab": {
      "provenance": []
    },
    "kernelspec": {
      "name": "python3",
      "display_name": "Python 3"
    },
    "language_info": {
      "name": "python"
    }
  },
  "cells": [
    {
      "cell_type": "code",
      "execution_count": 4,
      "metadata": {
        "colab": {
          "base_uri": "https://localhost:8080/",
          "height": 1000
        },
        "id": "xwfR37tCcdbO",
        "outputId": "eaf8c3f3-3cc4-41d5-82d8-086d70a69f0b"
      },
      "outputs": [
        {
          "output_type": "stream",
          "name": "stdout",
          "text": [
            "   Id  SepalLengthCm  SepalWidthCm  PetalLengthCm  PetalWidthCm      Species\n",
            "0   1            5.1           3.5            1.4           0.2  Iris-setosa\n",
            "1   2            4.9           3.0            1.4           0.2  Iris-setosa\n",
            "2   3            4.7           3.2            1.3           0.2  Iris-setosa\n",
            "3   4            4.6           3.1            1.5           0.2  Iris-setosa\n",
            "4   5            5.0           3.6            1.4           0.2  Iris-setosa\n",
            "               Id  SepalLengthCm  SepalWidthCm  PetalLengthCm  PetalWidthCm\n",
            "count  150.000000     150.000000    150.000000     150.000000    150.000000\n",
            "mean    75.500000       5.843333      3.054000       3.758667      1.198667\n",
            "std     43.445368       0.828066      0.433594       1.764420      0.763161\n",
            "min      1.000000       4.300000      2.000000       1.000000      0.100000\n",
            "25%     38.250000       5.100000      2.800000       1.600000      0.300000\n",
            "50%     75.500000       5.800000      3.000000       4.350000      1.300000\n",
            "75%    112.750000       6.400000      3.300000       5.100000      1.800000\n",
            "max    150.000000       7.900000      4.400000       6.900000      2.500000\n",
            "(150, 6)\n"
          ]
        },
        {
          "output_type": "display_data",
          "data": {
            "text/plain": [
              "<Figure size 800x600 with 1 Axes>"
            ],
            "image/png": "[encoded data removed]"
          },
          "metadata": {}
        },
        {
          "output_type": "stream",
          "name": "stdout",
          "text": [
            "SVM Accuracy: 1.0\n",
            "SVM Classification Report:\n",
            "                 precision    recall  f1-score   support\n",
            "\n",
            "    Iris-setosa       1.00      1.00      1.00        10\n",
            "Iris-versicolor       1.00      1.00      1.00         9\n",
            " Iris-virginica       1.00      1.00      1.00        11\n",
            "\n",
            "       accuracy                           1.00        30\n",
            "      macro avg       1.00      1.00      1.00        30\n",
            "   weighted avg       1.00      1.00      1.00        30\n",
            "\n",
            "Perceptron Accuracy: 0.6\n",
            "Perceptron Classification Report:\n",
            "                 precision    recall  f1-score   support\n",
            "\n",
            "    Iris-setosa       1.00      0.90      0.95        10\n",
            "Iris-versicolor       0.43      1.00      0.60         9\n",
            " Iris-virginica       0.00      0.00      0.00        11\n",
            "\n",
            "       accuracy                           0.60        30\n",
            "      macro avg       0.48      0.63      0.52        30\n",
            "   weighted avg       0.46      0.60      0.50        30\n",
            "\n"
          ]
        },
        {
          "output_type": "stream",
          "name": "stderr",
          "text": [
            "/usr/local/lib/python3.10/dist-packages/sklearn/metrics/_classification.py:1344: UndefinedMetricWarning: Precision and F-score are ill-defined and being set to 0.0 in labels with no predicted samples. Use `zero_division` parameter to control this behavior.\n",
            "  _warn_prf(average, modifier, msg_start, len(result))\n",
            "/usr/local/lib/python3.10/dist-packages/sklearn/metrics/_classification.py:1344: UndefinedMetricWarning: Precision and F-score are ill-defined and being set to 0.0 in labels with no predicted samples. Use `zero_division` parameter to control this behavior.\n",
            "  _warn_prf(average, modifier, msg_start, len(result))\n",
            "/usr/local/lib/python3.10/dist-packages/sklearn/metrics/_classification.py:1344: UndefinedMetricWarning: Precision and F-score are ill-defined and being set to 0.0 in labels with no predicted samples. Use `zero_division` parameter to control this behavior.\n",
            "  _warn_prf(average, modifier, msg_start, len(result))\n"
          ]
        }
      ],
      "source": [
        "import pandas as pd\n",
        "from sklearn.model_selection import train_test_split\n",
        "from sklearn.metrics import classification_report, accuracy_score\n",
        "\n",
        "\n",
        "# Load the dataset\n",
        "df = pd.read_csv(\"/content/Iris.csv\")\n",
        "\n",
        "# Display the first few rows\n",
        "print(df.head())\n",
        "# Get a summary of the dataset\n",
        "description = df.describe()\n",
        "print(description)\n",
        "# Get the shape of the dataset\n",
        "shape = df.shape\n",
        "print(shape)\n",
        "import matplotlib.pyplot as plt\n",
        "\n",
        "# Count the occurrences of each species\n",
        "species_counts = df['Species'].value_counts()\n",
        "\n",
        "# Create a bar chart\n",
        "plt.figure(figsize=(8, 6))\n",
        "species_counts.plot(kind='bar', color='skyblue')\n",
        "plt.title('Species Distribution')\n",
        "plt.xlabel('Species')\n",
        "plt.ylabel('Count')\n",
        "plt.show()\n",
        "X = data.drop(columns=['Species'])\n",
        "y = data['Species']\n",
        "\n",
        "# Split the data into training and testing sets\n",
        "X_train, X_test, y_train, y_test = train_test_split(X, y, test_size=0.2, random_state=42)\n",
        "\n",
        "\n",
        "\n",
        "\n",
        "from sklearn.svm import SVC\n",
        "\n",
        "# Initialize the SVM model\n",
        "svm_model = SVC()\n",
        "\n",
        "# Train the SVM model\n",
        "svm_model.fit(X_train, y_train)\n",
        "\n",
        "# Predict the target variable on the test set using SVM\n",
        "svm_y_pred = svm_model.predict(X_test)\n",
        "\n",
        "# Evaluate the SVM model\n",
        "svm_accuracy = accuracy_score(y_test, svm_y_pred)\n",
        "svm_report = classification_report(y_test, svm_y_pred)\n",
        "\n",
        "print(f\"SVM Accuracy: {svm_accuracy}\")\n",
        "print(f\"SVM Classification Report:\\n{svm_report}\")\n",
        "from sklearn.linear_model import Perceptron\n",
        "\n",
        "# Initialize the Perceptron model\n",
        "perceptron_model = Perceptron()\n",
        "\n",
        "# Train the Perceptron model\n",
        "perceptron_model.fit(X_train, y_train)\n",
        "\n",
        "# Predict the target variable on the test set using Perceptron\n",
        "perceptron_y_pred = perceptron_model.predict(X_test)\n",
        "\n",
        "# Evaluate the Perceptron model\n",
        "perceptron_accuracy = accuracy_score(y_test, perceptron_y_pred)\n",
        "perceptron_report = classification_report(y_test, perceptron_y_pred)\n",
        "\n",
        "print(f\"Perceptron Accuracy: {perceptron_accuracy}\")\n",
        "print(f\"Perceptron Classification Report:\\n{perceptron_report}\")\n"
      ]
    },
    {
      "cell_type": "code",
      "source": [
        "import numpy as np\n",
        "import pandas as pd\n",
        "from sklearn.model_selection import train_test_split\n",
        "from sklearn.metrics import accuracy_score, classification_report\n",
        "\n",
        "# Define your Logistic Regression class\n",
        "class LogisticRegression:\n",
        "    def __init__(self, learning_rate=0.01, num_iterations=1000):\n",
        "        self.learning_rate = learning_rate\n",
        "        self.num_iterations = num_iterations\n",
        "        self.weights = None\n",
        "        self.bias = None\n",
        "\n",
        "    def sigmoid(self, z):\n",
        "        return 1 / (1 + np.exp(-z))\n",
        "\n",
        "    def fit(self, X, Y):\n",
        "        m, n = X.shape\n",
        "        self.weights = np.zeros(n)\n",
        "        self.bias = 0\n",
        "\n",
        "        for _ in range(self.num_iterations):\n",
        "            h = self.sigmoid(np.dot(X, self.weights) + self.bias)\n",
        "            dw = (1 / m) * np.dot(X.T, (h - Y))\n",
        "            db = (1 / m) * np.sum(h - Y)\n",
        "            self.weights -= self.learning_rate * dw\n",
        "            self.bias -= self.learning_rate * db\n",
        "\n",
        "    def predict(self, X):\n",
        "        h = self.sigmoid(np.dot(X, self.weights) + self.bias)\n",
        "        y_pred = np.where(h > 0.5, 1, 0)\n",
        "        return y_pred\n",
        "\n",
        "# Load the dataset\n",
        "data = pd.read_csv(\"/content/Iris.csv\")\n",
        "\n",
        "# Map 'Species' to binary classes (1 for versicolor, 0 for others)\n",
        "data['Species'] = (data['Species'] == 'versicolor').astype(int)\n",
        "\n",
        "# Separate features (X) and target variable (y)\n",
        "X = data.drop(columns=['Species'])\n",
        "y = data['Species']\n",
        "\n",
        "# Add a column of ones to X for the bias term\n",
        "X = np.hstack((np.ones((X.shape[0], 1)), X))\n",
        "\n",
        "# Split the data into training and testing sets\n",
        "X_train, X_test, y_train, y_test = train_test_split(X, y, test_size=0.2, random_state=42)\n",
        "\n",
        "# Create an instance of the LogisticRegression class\n",
        "model = LogisticRegression(learning_rate=0.01, num_iterations=1000)\n",
        "\n",
        "# Fit the model on the training data\n",
        "model.fit(X_train, y_train)\n",
        "\n",
        "# Make predictions on the test data\n",
        "predictions = model.predict(X_test)\n",
        "\n",
        "# Evaluate the model\n",
        "accuracy = accuracy_score(y_test, predictions)\n",
        "report = classification_report(y_test, predictions)\n",
        "\n",
        "print(f\"Accuracy: {accuracy}\")\n",
        "print(report)"
      ],
      "metadata": {
        "colab": {
          "base_uri": "https://localhost:8080/"
        },
        "id": "Yi3dcjgfcgC8",
        "outputId": "753b0cce-e293-4639-dd7c-215fa03ac2fa"
      },
      "execution_count": 6,
      "outputs": [
        {
          "output_type": "stream",
          "name": "stdout",
          "text": [
            "Accuracy: 1.0\n",
            "              precision    recall  f1-score   support\n",
            "\n",
            "           0       1.00      1.00      1.00        30\n",
            "\n",
            "    accuracy                           1.00        30\n",
            "   macro avg       1.00      1.00      1.00        30\n",
            "weighted avg       1.00      1.00      1.00        30\n",
            "\n"
          ]
        }
      ]
    }
  ]
}